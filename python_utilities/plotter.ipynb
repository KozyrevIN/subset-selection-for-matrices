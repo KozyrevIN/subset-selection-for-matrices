{
 "cells": [
  {
   "cell_type": "code",
   "execution_count": null,
   "metadata": {},
   "outputs": [],
   "source": [
    "import numpy as np\n",
    "import pandas as pd\n",
    "import matplotlib.pyplot as plt\n",
    "from scipy.stats import gaussian_kde\n",
    "\n",
    "OUT_PATH = \"../out/\"\n",
    "\n",
    "plt.rcParams.update({'font.size': 14})\n",
    "\n",
    "def plot_results(points, points_random, bound):\n",
    "    # Create the figure and axis\n",
    "    fig, ax = plt.subplots()\n",
    "\n",
    "    # Plot random part\n",
    "    x = points_random['k'].to_numpy()\n",
    "    y = points_random['value'].to_numpy()**2\n",
    "    ax.hist2d(x, y, bins=[x.max()-x.min(), 500], range=[[x.min() - 1, x.max()], [0, y.max()]], cmap='gray', norm='log', alpha=0.5)\n",
    "\n",
    "    # Plot the density\n",
    "    x = points['k'].to_numpy()\n",
    "    y = points['value'].to_numpy()**2\n",
    "    ax.hist2d(x, y, bins=[x.max()-x.min(), 500], range=[[x.min() - 1, x.max()], [0, y.max()]], cmap='inferno', norm='log')\n",
    "\n",
    "    # Plot a line on top of the density plot\n",
    "    line_x = bound['k'].to_numpy()\n",
    "    ks = np.array(range(20, 301))\n",
    "    n = 300\n",
    "    m = 20\n",
    "    line_y = (ks - m + 1) * 1.0 / n\n",
    "    #line_y = 1.0 / n**2 * (((ks + 1) * (n - m))**0.5 - (m * (n - ks - 1))**0.5)**2\n",
    "    #line_y = (bound['value'].to_numpy())**2\n",
    "    ax.plot(line_x, line_y, color='red', linewidth=1)\n",
    "\n",
    "    # Set labels and title\n",
    "    ax.set_xlabel('k')\n",
    "    ax.set_ylabel(r'$||X^\\dag||^2 / ||X_S^\\dag||^2$')\n",
    "    \n",
    "\n"
   ]
  },
  {
   "cell_type": "code",
   "execution_count": null,
   "metadata": {},
   "outputs": [],
   "source": [
    "points = pd.read_csv(OUT_PATH + \"greedy_removal_2_100/points.csv\")\n",
    "bound = pd.read_csv(OUT_PATH + \"greedy_removal_2_100/bound.csv\")\n",
    "\n",
    "points_random = pd.read_csv(OUT_PATH + \"random_100/points.csv\")\n",
    "#bound = pd.read_csv(OUT_PATH + \"random_100/bound.csv\")\n",
    "\n",
    "plot_results(points, points_random, bound)\n",
    "plt.savefig('../out/images/greedy_removal_2_random_m20_n300_samples100.png', bbox_inches=\"tight\", dpi=500)"
   ]
  },
  {
   "cell_type": "code",
   "execution_count": null,
   "metadata": {},
   "outputs": [],
   "source": [
    "points = pd.read_csv(OUT_PATH + \"greedy_selection_1_100/points.csv\")\n",
    "bound = pd.read_csv(OUT_PATH + \"greedy_selection_1_100/bound.csv\")\n",
    "\n",
    "points_random = pd.read_csv(OUT_PATH + \"random_100/points.csv\")\n",
    "#bound = pd.read_csv(OUT_PATH + \"random_100/bound.csv\")\n",
    "\n",
    "plot_results(points, points_random, bound)\n",
    "plt.savefig('../out/images/greedy_selection_1_random_m20_n300_samples100.png', bbox_inches=\"tight\")"
   ]
  }
 ],
 "metadata": {
  "kernelspec": {
   "display_name": ".venv",
   "language": "python",
   "name": "python3"
  },
  "language_info": {
   "codemirror_mode": {
    "name": "ipython",
    "version": 3
   },
   "file_extension": ".py",
   "mimetype": "text/x-python",
   "name": "python",
   "nbconvert_exporter": "python",
   "pygments_lexer": "ipython3",
   "version": "3.12.3"
  }
 },
 "nbformat": 4,
 "nbformat_minor": 2
}
