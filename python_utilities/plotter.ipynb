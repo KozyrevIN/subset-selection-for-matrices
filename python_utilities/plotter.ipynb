{
 "cells": [
  {
   "cell_type": "code",
   "execution_count": 1,
   "metadata": {},
   "outputs": [],
   "source": [
    "import numpy as np\n",
    "import pandas as pd\n",
    "import matplotlib.pyplot as plt\n",
    "import json"
   ]
  },
  {
   "cell_type": "code",
   "execution_count": 43,
   "metadata": {},
   "outputs": [],
   "source": [
    "#run_time = '28-01-2025_18:28:13'\n",
    "#run_time = '28-01-2025_18:33:30'\n",
    "run_time = '28-01-2025_20:30:31'\n"
   ]
  },
  {
   "cell_type": "markdown",
   "metadata": {},
   "source": [
    "## Separate plots for algorithms"
   ]
  },
  {
   "cell_type": "code",
   "execution_count": 35,
   "metadata": {},
   "outputs": [],
   "source": [
    "# Open and read the JSON file\n",
    "path = '../out/run_' + run_time + '/'\n",
    "with open(path + 'run_info.json', 'r') as file:\n",
    "    run_info = json.load(file)\n",
    "\n",
    "# generate images for all algorithms\n",
    "for algorithm in run_info['algorithms']:\n",
    "    algorithm_undersored = algorithm.replace(' ', '_')\n",
    "\n",
    "    points = pd.read_csv(path + algorithm_undersored + '_points.csv')\n",
    "    bound = pd.read_csv(path + algorithm_undersored + '_bound.csv')\n",
    "\n",
    "    # Create a scatter plot\n",
    "    plt.figure(figsize=(10, 6))\n",
    "\n",
    "    plt.scatter(points['k'], points['value'], label='Points', alpha=0.1)\n",
    "    if not (bound['value'] == 0).all():\n",
    "        plt.plot(bound['k'], bound['value'], label='Bound', color='red', linestyle='--')\n",
    "\n",
    "    plt.title(algorithm + ' scatter plot')\n",
    "    plt.xlabel('k')\n",
    "    plt.ylabel('Value')\n",
    "    plt.legend()\n",
    "    plt.savefig(path + algorithm_undersored + '_scatter_plot.svg')\n",
    "    plt.close()"
   ]
  },
  {
   "cell_type": "markdown",
   "metadata": {},
   "source": [
    "## One plot for all algorithms"
   ]
  },
  {
   "cell_type": "code",
   "execution_count": 36,
   "metadata": {},
   "outputs": [],
   "source": [
    "# Open and read the JSON file\n",
    "path = '../out/run_' + run_time + '/'\n",
    "with open(path + 'run_info.json', 'r') as file:\n",
    "    run_info = json.load(file)\n",
    "\n",
    "# Create a single figure\n",
    "plt.figure(figsize=(10, 6))\n",
    "\n",
    "# Iterate over algorithms and plot points and bounds\n",
    "for algorithm in run_info['algorithms']:\n",
    "    algorithm_undersored = algorithm.replace(' ', '_')\n",
    "\n",
    "    points = pd.read_csv(path + algorithm_undersored + '_points.csv')\n",
    "    bound = pd.read_csv(path + algorithm_undersored + '_bound.csv')\n",
    "\n",
    "    # Plot points\n",
    "    plt.scatter(points['k'], points['value'], label=algorithm, alpha=0.1, color=plt.cm.tab10(list(run_info['algorithms']).index(algorithm)))\n",
    "\n",
    "    # Check if bound is all zeros\n",
    "    if not (bound['value'] == 0).all():\n",
    "        plt.plot(bound['k'], bound['value'], label=algorithm + ' bound', linestyle='--', color=plt.cm.tab10(list(run_info['algorithms']).index(algorithm)))\n",
    "\n",
    "# Set title and labels\n",
    "plt.title('Points and Bounds for All Algorithms')\n",
    "plt.xlabel('k')\n",
    "plt.ylabel('Value')\n",
    "\n",
    "# Show legend\n",
    "plt.legend()\n",
    "\n",
    "# Save plot\n",
    "plt.savefig(path + 'all_algorithms_plot.svg')\n",
    "plt.close()"
   ]
  },
  {
   "cell_type": "markdown",
   "metadata": {},
   "source": [
    "## Drawing confidence band"
   ]
  },
  {
   "cell_type": "code",
   "execution_count": 44,
   "metadata": {},
   "outputs": [],
   "source": [
    "import json\n",
    "import pandas as pd\n",
    "import matplotlib.pyplot as plt\n",
    "import numpy as np\n",
    "\n",
    "# Open and read the JSON file\n",
    "path = '../out/run_' + run_time + '/'\n",
    "with open(path + 'run_info.json', 'r') as file:\n",
    "    run_info = json.load(file)\n",
    "\n",
    "# Create a single figure\n",
    "plt.figure(figsize=(10, 6))\n",
    "\n",
    "# Iterate over algorithms and plot confidence intervals\n",
    "for algorithm in run_info['algorithms']:\n",
    "    algorithm_undersored = algorithm.replace(' ', '_')\n",
    "\n",
    "    points = pd.read_csv(path + algorithm_undersored + '_points.csv')\n",
    "    bound = pd.read_csv(path + algorithm_undersored + '_bound.csv')\n",
    "\n",
    "    # Calculate mean and standard deviation of points for each k\n",
    "    k_values = points['k'].unique()\n",
    "    mean_values = [points[points['k'] == k]['value'].mean() for k in k_values]\n",
    "    std_values = [points[points['k'] == k]['value'].std() for k in k_values]\n",
    "\n",
    "    # Plot confidence interval\n",
    "    plt.plot(k_values, mean_values, label=algorithm, color=plt.cm.tab10(list(run_info['algorithms']).index(algorithm)))\n",
    "    plt.fill_between(k_values, [m - 1.96 * s for m, s in zip(mean_values, std_values)], [m + 1.96 * s for m, s in zip(mean_values, std_values)], alpha=0.2, color=plt.cm.tab10(list(run_info['algorithms']).index(algorithm)))\n",
    "\n",
    "    # Check if bound is all zeros\n",
    "    if not (bound['value'] == 0).all():\n",
    "        plt.plot(bound['k'], bound['value'], label=algorithm + ' bound', linestyle='--', color=plt.cm.tab10(list(run_info['algorithms']).index(algorithm)))\n",
    "\n",
    "# Set title and labels\n",
    "plt.title('Confidence Intervals for All Algorithms')\n",
    "plt.xlabel('k')\n",
    "plt.ylabel('Value')\n",
    "\n",
    "# Show legend\n",
    "plt.legend()\n",
    "\n",
    "# Save plot\n",
    "plt.tight_layout()\n",
    "plt.savefig(path + 'confidence_intervals_plot.svg')\n",
    "plt.close()"
   ]
  }
 ],
 "metadata": {
  "kernelspec": {
   "display_name": ".venv",
   "language": "python",
   "name": "python3"
  },
  "language_info": {
   "codemirror_mode": {
    "name": "ipython",
    "version": 3
   },
   "file_extension": ".py",
   "mimetype": "text/x-python",
   "name": "python",
   "nbconvert_exporter": "python",
   "pygments_lexer": "ipython3",
   "version": "3.12.3"
  }
 },
 "nbformat": 4,
 "nbformat_minor": 2
}
