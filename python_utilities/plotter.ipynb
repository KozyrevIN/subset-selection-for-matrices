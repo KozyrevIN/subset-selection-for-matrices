{
 "cells": [
  {
   "cell_type": "code",
   "execution_count": 1,
   "metadata": {},
   "outputs": [],
   "source": [
    "import numpy as np\n",
    "import pandas as pd\n",
    "import matplotlib.pyplot as plt\n",
    "import json"
   ]
  },
  {
   "cell_type": "code",
   "execution_count": 117,
   "metadata": {},
   "outputs": [],
   "source": [
    "#run_time = '28-01-2025_18:28:13'\n",
    "#run_time = '28-01-2025_18:33:30'\n",
    "run_time = '02-02-2025_12:58:38'\n"
   ]
  },
  {
   "cell_type": "markdown",
   "metadata": {},
   "source": [
    "## Drawing confidence band"
   ]
  },
  {
   "cell_type": "code",
   "execution_count": 119,
   "metadata": {},
   "outputs": [],
   "source": [
    "import json\n",
    "import pandas as pd\n",
    "import matplotlib.pyplot as plt\n",
    "import numpy as np\n",
    "\n",
    "# Open and read the JSON file\n",
    "path = '../out/run_' + run_time + '/'\n",
    "with open(path + 'run_info.json', 'r') as file:\n",
    "    run_info = json.load(file)\n",
    "\n",
    "# Create a single figure\n",
    "plt.figure(figsize=(10, 6))\n",
    "\n",
    "# Iterate over algorithms and plot confidence intervals\n",
    "for algorithm in run_info['algorithms']:\n",
    "    algorithm_undersored = algorithm.replace(' ', '_')\n",
    "\n",
    "    points = pd.read_csv(path + algorithm_undersored + '_points.csv')\n",
    "    bound = pd.read_csv(path + algorithm_undersored + '_bound.csv')\n",
    "\n",
    "    # Calculate mean and standard deviation of points for each k\n",
    "    k_values = points['k'].unique()\n",
    "    k_values = np.sort(k_values)\n",
    "    mean_values = np.array([np.sqrt(points[points['k'] == k]['value']).mean() for k in k_values])\n",
    "    std_values = np.array([np.sqrt(points[points['k'] == k]['value']).std() for k in k_values])\n",
    "    upper_values = mean_values + 1.96 * std_values\n",
    "    lower_values = mean_values - 1.96 * std_values\n",
    "\n",
    "    # Plot confidence interval\n",
    "    plt.plot(k_values, mean_values, label=algorithm, color=plt.cm.tab10(list(run_info['algorithms']).index(algorithm)), dashes=[5, 5])\n",
    "    plt.plot(k_values, upper_values, color=plt.cm.tab10(list(run_info['algorithms']).index(algorithm)), alpha = 0.0)\n",
    "    plt.plot(k_values, lower_values, color=plt.cm.tab10(list(run_info['algorithms']).index(algorithm)), alpha = 0.0)\n",
    "    plt.fill_between(k_values, lower_values, upper_values, alpha=0.33, color=plt.cm.tab10(list(run_info['algorithms']).index(algorithm)))\n",
    "\n",
    "    # Check if bound is all zeros\n",
    "    if not (bound['value'] == 0).all():\n",
    "        plt.plot(bound['k'], np.sqrt(bound['value']), label=algorithm + ' bound', linestyle=':', color=plt.cm.tab10(list(run_info['algorithms']).index(algorithm)))\n",
    "\n",
    "# Set title and labels\n",
    "plt.title('Confidence Intervals for all algorithms')\n",
    "plt.xlabel('k')\n",
    "plt.ylabel(r'$\\Vert X \\Vert_2 / \\Vert X_S \\Vert_2$')\n",
    "\n",
    "# Show legend\n",
    "plt.legend()\n",
    "\n",
    "# Save plot\n",
    "plt.tight_layout()\n",
    "plt.savefig(path + 'confidence_intervals_plot.svg')\n",
    "plt.close()"
   ]
  }
 ],
 "metadata": {
  "kernelspec": {
   "display_name": ".venv",
   "language": "python",
   "name": "python3"
  },
  "language_info": {
   "codemirror_mode": {
    "name": "ipython",
    "version": 3
   },
   "file_extension": ".py",
   "mimetype": "text/x-python",
   "name": "python",
   "nbconvert_exporter": "python",
   "pygments_lexer": "ipython3",
   "version": "3.12.3"
  }
 },
 "nbformat": 4,
 "nbformat_minor": 2
}
