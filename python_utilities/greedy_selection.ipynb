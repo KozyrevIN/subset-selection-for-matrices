{
 "cells": [
  {
   "cell_type": "code",
   "execution_count": null,
   "metadata": {},
   "outputs": [],
   "source": [
    "import math\n",
    "\n",
    "def calculate_delta(i, n, m, l0, epsilon, previous_deltas):\n",
    "    s = 1 - l0 - sum(previous_deltas)\n",
    "    \n",
    "    a = epsilon\n",
    "    b = -(1 + epsilon * s + n + m - i)\n",
    "    c = s\n",
    "\n",
    "    discriminant = b**2 - 4 * a * c\n",
    "    max_delta_i = (-b - math.sqrt(discriminant)) / (2 * a)\n",
    "\n",
    "    if max_delta_i > 1 / epsilon:\n",
    "        max_delta_i = 1 / epsilon\n",
    "        \n",
    "    return max_delta_i"
   ]
  },
  {
   "cell_type": "code",
   "execution_count": null,
   "metadata": {},
   "outputs": [],
   "source": [
    "import matplotlib.pyplot as plt\n",
    "import numpy as np\n",
    "\n",
    "n = 1000\n",
    "m = 20\n",
    "\n",
    "l = []\n",
    "l_2 = []\n",
    "\n",
    "for k in range (m, m+10):\n",
    "    l0 = (m - ((k + 1)*m*(m + n) / (-k + 2*m + n -1))**0.5) / (2 * m + n)\n",
    "    l0_2 = - ((m * (k + 1))**0.5 - m) / n\n",
    "    eps = m / -l0\n",
    "    eps_2 = m / -l0_2\n",
    "    deltas = []\n",
    "    deltas_2 = []\n",
    "\n",
    "    for i in range(k + 1):\n",
    "        deltas.append(calculate_delta(i + 1, n, m=m,l0=l0, epsilon=eps, previous_deltas=deltas))\n",
    "        deltas_2.append(calculate_delta(i + 1, n, m=m,l0=l0_2, epsilon=eps_2, previous_deltas=deltas_2))\n",
    "        \n",
    "    l.append(l0 + sum(deltas))\n",
    "    l_2.append(l0_2 + sum(deltas_2))\n",
    "\n",
    "fig = plt.figure()\n",
    "ax = fig.add_subplot(1, 1, 1)\n",
    "\n",
    "major_ticks = np.arange(0, k + 1, 100)\n",
    "minor_ticks = np.arange(0, k + 1, 20)\n",
    "\n",
    "ax.set_xticks(major_ticks)\n",
    "ax.set_xticks(minor_ticks, minor=True)\n",
    "\n",
    "ax.grid(which='both')\n",
    "\n",
    "plt.plot(range(m, m+10), np.array(l_2))\n",
    "plt.show()\n"
   ]
  }
 ],
 "metadata": {
  "kernelspec": {
   "display_name": "Python 3",
   "language": "python",
   "name": "python3"
  },
  "language_info": {
   "codemirror_mode": {
    "name": "ipython",
    "version": 3
   },
   "file_extension": ".py",
   "mimetype": "text/x-python",
   "name": "python",
   "nbconvert_exporter": "python",
   "pygments_lexer": "ipython3",
   "version": "3.12.3"
  }
 },
 "nbformat": 4,
 "nbformat_minor": 2
}
